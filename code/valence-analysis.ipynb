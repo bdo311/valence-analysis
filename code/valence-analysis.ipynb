{
 "cells": [
  {
   "cell_type": "code",
   "execution_count": 232,
   "metadata": {
    "collapsed": true
   },
   "outputs": [],
   "source": [
    "import csv\n",
    "import collections\n",
    "import pandas as pd\n",
    "import numpy as np\n",
    "import scipy\n",
    "import Queue\n",
    "import seaborn as sns\n",
    "from statsmodels import *\n",
    "csv.register_dialect(\"textdialect\", delimiter=',')\n",
    "\n",
    "%matplotlib inline"
   ]
  },
  {
   "cell_type": "markdown",
   "metadata": {},
   "source": [
    "## Setup"
   ]
  },
  {
   "cell_type": "code",
   "execution_count": 10,
   "metadata": {
    "collapsed": false
   },
   "outputs": [
    {
     "name": "stdout",
     "output_type": "stream",
     "text": [
      "Word,V.Mean.Sum,A.Mean.Sum\r\n",
      "aardvark,6.26,2.41\r\n",
      "abalone,5.3,2.65\r\n",
      "abandon,2.84,3.73\r\n",
      "abandonment,2.63,4.95\r\n",
      "abbey,5.85,2.2\r\n",
      "abdomen,5.43,3.68\r\n",
      "abdominal,4.48,3.5\r\n",
      "abduct,2.42,5.9\r\n",
      "abduction,2.05,5.33\r\n"
     ]
    }
   ],
   "source": [
    "! cut -d, -f2,3,6 ../data/warriner_emot_ratings.csv > ../data/warriner_emot_ratings_trunc.csv\n",
    "! head ../data/warriner_emot_ratings_trunc.csv"
   ]
  },
  {
   "cell_type": "code",
   "execution_count": 15,
   "metadata": {
    "collapsed": false
   },
   "outputs": [],
   "source": [
    "word_to_scores = {}\n",
    "with open(\"../data/warriner_emot_ratings_trunc.csv\", 'r') as ifile:\n",
    "    reader = csv.reader(ifile, 'textdialect')\n",
    "    reader.next()\n",
    "    for row in reader:\n",
    "        word_to_scores[row[0]] = [float(row[1]), float(row[2])]"
   ]
  },
  {
   "cell_type": "code",
   "execution_count": 22,
   "metadata": {
    "collapsed": true
   },
   "outputs": [],
   "source": [
    "word_to_one = {}\n",
    "word_to_two = {}\n",
    "word_to_three = {}\n",
    "for word in word_to_scores:\n",
    "    word_to_one[word] = [word[i:i+1] for i in range(len(word))]\n",
    "    word_to_two[word] = [word[i:i+2] for i in range(len(word)-1)]\n",
    "    word_to_three[word] = [word[i:i+3] for i in range(len(word)-2)]"
   ]
  },
  {
   "cell_type": "code",
   "execution_count": 108,
   "metadata": {
    "collapsed": false
   },
   "outputs": [
    {
     "data": {
      "text/html": [
       "<div>\n",
       "<table border=\"1\" class=\"dataframe\">\n",
       "  <thead>\n",
       "    <tr style=\"text-align: right;\">\n",
       "      <th></th>\n",
       "      <th>word</th>\n",
       "      <th>val</th>\n",
       "      <th>ar</th>\n",
       "    </tr>\n",
       "  </thead>\n",
       "  <tbody>\n",
       "    <tr>\n",
       "      <th>0</th>\n",
       "      <td>aardvark</td>\n",
       "      <td>6.26</td>\n",
       "      <td>2.41</td>\n",
       "    </tr>\n",
       "    <tr>\n",
       "      <th>1</th>\n",
       "      <td>abalone</td>\n",
       "      <td>5.30</td>\n",
       "      <td>2.65</td>\n",
       "    </tr>\n",
       "    <tr>\n",
       "      <th>2</th>\n",
       "      <td>abandon</td>\n",
       "      <td>2.84</td>\n",
       "      <td>3.73</td>\n",
       "    </tr>\n",
       "    <tr>\n",
       "      <th>3</th>\n",
       "      <td>abandonment</td>\n",
       "      <td>2.63</td>\n",
       "      <td>4.95</td>\n",
       "    </tr>\n",
       "    <tr>\n",
       "      <th>4</th>\n",
       "      <td>abbey</td>\n",
       "      <td>5.85</td>\n",
       "      <td>2.20</td>\n",
       "    </tr>\n",
       "  </tbody>\n",
       "</table>\n",
       "</div>"
      ],
      "text/plain": [
       "          word   val    ar\n",
       "0     aardvark  6.26  2.41\n",
       "1      abalone  5.30  2.65\n",
       "2      abandon  2.84  3.73\n",
       "3  abandonment  2.63  4.95\n",
       "4        abbey  5.85  2.20"
      ]
     },
     "execution_count": 108,
     "metadata": {},
     "output_type": "execute_result"
    }
   ],
   "source": [
    "ratings = pd.read_csv(\"../data/warriner_emot_ratings_trunc.csv\")\n",
    "ratings.columns=[\"word\", \"val\", \"ar\"]\n",
    "ratings.head()"
   ]
  },
  {
   "cell_type": "markdown",
   "metadata": {},
   "source": [
    "## Valence"
   ]
  },
  {
   "cell_type": "code",
   "execution_count": 179,
   "metadata": {
    "collapsed": true
   },
   "outputs": [],
   "source": [
    "def get_enrichment_list(lo_list, hi_list, n):\n",
    "    \n",
    "    # takes in lists of word parts\n",
    "    # output is a list of element to enrichment\n",
    "    \n",
    "    lo_ctr = collections.Counter(lo_list)\n",
    "    hi_ctr = collections.Counter(hi_list)\n",
    "    \n",
    "    # hi - lo / (hi + lo)\n",
    "    elem_to_enr = Queue.PriorityQueue()\n",
    "    for elem in lo_ctr:\n",
    "        hi_lo_sum = hi_ctr[elem] + lo_ctr[elem]\n",
    "        if hi_lo_sum < n: continue\n",
    "        ratio = (hi_ctr[elem] - lo_ctr[elem])/float(hi_lo_sum)\n",
    "        elem_to_enr.put((ratio, (elem, hi_lo_sum)))\n",
    "\n",
    "    elem_to_enr_list = []\n",
    "    while not elem_to_enr.empty():\n",
    "        (ratio, data) = elem_to_enr.get()\n",
    "        elem_to_enr_list.append((ratio, data))\n",
    "        \n",
    "    return elem_to_enr_list"
   ]
  },
  {
   "cell_type": "markdown",
   "metadata": {},
   "source": [
    "### List of low and high valence words"
   ]
  },
  {
   "cell_type": "code",
   "execution_count": 218,
   "metadata": {
    "collapsed": false
   },
   "outputs": [],
   "source": [
    "n=500\n",
    "lo_valence = ratings.sort_values(\"val\")[:n][\"word\"]\n",
    "hi_valence = ratings.sort_values(\"val\")[-n:][\"word\"]"
   ]
  },
  {
   "cell_type": "code",
   "execution_count": 219,
   "metadata": {
    "collapsed": false
   },
   "outputs": [
    {
     "data": {
      "text/html": [
       "<div>\n",
       "<table border=\"1\" class=\"dataframe\">\n",
       "  <thead>\n",
       "    <tr style=\"text-align: right;\">\n",
       "      <th></th>\n",
       "      <th>word</th>\n",
       "      <th>val</th>\n",
       "      <th>ar</th>\n",
       "      <th>wordlen</th>\n",
       "      <th>numvowel</th>\n",
       "    </tr>\n",
       "  </thead>\n",
       "  <tbody>\n",
       "    <tr>\n",
       "      <th>4770</th>\n",
       "      <td>flu</td>\n",
       "      <td>2.58</td>\n",
       "      <td>4.0</td>\n",
       "      <td>3</td>\n",
       "      <td>1</td>\n",
       "    </tr>\n",
       "  </tbody>\n",
       "</table>\n",
       "</div>"
      ],
      "text/plain": [
       "     word   val   ar  wordlen  numvowel\n",
       "4770  flu  2.58  4.0        3         1"
      ]
     },
     "execution_count": 219,
     "metadata": {},
     "output_type": "execute_result"
    }
   ],
   "source": [
    "ratings[ratings[\"word\"] == list(lo_valence)[-1]]"
   ]
  },
  {
   "cell_type": "code",
   "execution_count": 220,
   "metadata": {
    "collapsed": false
   },
   "outputs": [
    {
     "data": {
      "text/html": [
       "<div>\n",
       "<table border=\"1\" class=\"dataframe\">\n",
       "  <thead>\n",
       "    <tr style=\"text-align: right;\">\n",
       "      <th></th>\n",
       "      <th>word</th>\n",
       "      <th>val</th>\n",
       "      <th>ar</th>\n",
       "      <th>wordlen</th>\n",
       "      <th>numvowel</th>\n",
       "    </tr>\n",
       "  </thead>\n",
       "  <tbody>\n",
       "    <tr>\n",
       "      <th>12193</th>\n",
       "      <td>swimming</td>\n",
       "      <td>7.2</td>\n",
       "      <td>5.13</td>\n",
       "      <td>8</td>\n",
       "      <td>2</td>\n",
       "    </tr>\n",
       "  </tbody>\n",
       "</table>\n",
       "</div>"
      ],
      "text/plain": [
       "           word  val    ar  wordlen  numvowel\n",
       "12193  swimming  7.2  5.13        8         2"
      ]
     },
     "execution_count": 220,
     "metadata": {},
     "output_type": "execute_result"
    }
   ],
   "source": [
    "ratings[ratings[\"word\"] == list(hi_valence)[0]]"
   ]
  },
  {
   "cell_type": "markdown",
   "metadata": {},
   "source": [
    "### Length and vowels"
   ]
  },
  {
   "cell_type": "code",
   "execution_count": 209,
   "metadata": {
    "collapsed": true
   },
   "outputs": [],
   "source": [
    "ratings[\"wordlen\"] = [len(w) for w in ratings[\"word\"]]\n",
    "vowels = [\"a\", \"e\", \"i\", \"o\", \"u\"]\n",
    "ratings[\"numvowel\"] = [sum(w.count(c) for c in vowels) for w in ratings[\"word\"]]"
   ]
  },
  {
   "cell_type": "code",
   "execution_count": 206,
   "metadata": {
    "collapsed": false
   },
   "outputs": [
    {
     "data": {
      "text/plain": [
       "<seaborn.axisgrid.JointGrid at 0x10e1fc850>"
      ]
     },
     "execution_count": 206,
     "metadata": {},
     "output_type": "execute_result"
    },
    {
     "data": {
      "image/png": "[encoded data removed]",
      "text/plain": [
       "<matplotlib.figure.Figure at 0x113644b50>"
      ]
     },
     "metadata": {},
     "output_type": "display_data"
    }
   ],
   "source": [
    "sns.jointplot(\"wordlen\", \"val\", data=ratings, kind=\"kde\")\n",
    "sns.plt.ylim([1,9])"
   ]
  },
  {
   "cell_type": "code",
   "execution_count": 211,
   "metadata": {
    "collapsed": false
   },
   "outputs": [
    {
     "data": {
      "text/plain": [
       "<seaborn.axisgrid.JointGrid at 0x1141bb590>"
      ]
     },
     "execution_count": 211,
     "metadata": {},
     "output_type": "execute_result"
    },
    {
     "data": {
      "image/png": "[encoded data removed]",
      "text/plain": [
       "<matplotlib.figure.Figure at 0x1144f8150>"
      ]
     },
     "metadata": {},
     "output_type": "display_data"
    }
   ],
   "source": [
    "sns.jointplot(\"wordlen\", \"numvowel\", data=ratings, kind=\"kde\")\n",
    "sns.plt.ylim([1,9])"
   ]
  },
  {
   "cell_type": "code",
   "execution_count": 242,
   "metadata": {
    "collapsed": false
   },
   "outputs": [
    {
     "data": {
      "text/plain": [
       "(1, 9)"
      ]
     },
     "execution_count": 242,
     "metadata": {},
     "output_type": "execute_result"
    },
    {
     "data": {
      "image/png": "[encoded data removed]",
      "text/plain": [
       "<matplotlib.figure.Figure at 0x115f514d0>"
      ]
     },
     "metadata": {},
     "output_type": "display_data"
    }
   ],
   "source": [
    "sns.jointplot(ratings[\"numvowel\"]/ratings[\"wordlen\"], ratings[\"val\"], kind=\"kde\")\n",
    "sns.plt.ylim([1,9])"
   ]
  },
  {
   "cell_type": "markdown",
   "metadata": {},
   "source": [
    "Long words are slightly more likely to be lower valence than short words, and words with more vowels as a percentage of their length (\"complexity\") are slightly more likely to be of higher valence."
   ]
  },
  {
   "cell_type": "markdown",
   "metadata": {},
   "source": [
    "### One letter"
   ]
  },
  {
   "cell_type": "code",
   "execution_count": 196,
   "metadata": {
    "collapsed": false
   },
   "outputs": [
    {
     "name": "stdout",
     "output_type": "stream",
     "text": [
      "4555 4449\n"
     ]
    },
    {
     "data": {
      "text/plain": [
       "[(-0.2, (' ', 10)),\n",
       " (-0.13333333333333333, ('j', 30)),\n",
       " (-0.1254125412541254, ('s', 606)),\n",
       " (-0.125, ('k', 96)),\n",
       " (-0.07865168539325842, ('h', 267)),\n",
       " (-0.07792207792207792, ('d', 308)),\n",
       " (-0.06928104575163399, ('i', 765)),\n",
       " (-0.05956112852664577, ('r', 638)),\n",
       " (-0.046052631578947366, ('t', 608)),\n",
       " (-0.04504504504504504, ('u', 333))]"
      ]
     },
     "execution_count": 196,
     "metadata": {},
     "output_type": "execute_result"
    }
   ],
   "source": [
    "lo_valence_one = sum([word_to_one[w] for w in lo_valence], [])  # to flatten the list\n",
    "hi_valence_one = sum([word_to_one[w] for w in hi_valence], [])\n",
    "print len(lo_valence_one), len(hi_valence_one)\n",
    "\n",
    "elem_to_enr_list = get_enrichment_list(lo_valence_one, hi_valence_one, 10)\n",
    "\n",
    "# Most common in low valence\n",
    "elem_to_enr_list[:10]"
   ]
  },
  {
   "cell_type": "code",
   "execution_count": 181,
   "metadata": {
    "collapsed": false
   },
   "outputs": [
    {
     "data": {
      "text/plain": [
       "[(0.019801980198019802, ('g', 202)),\n",
       " (0.02564102564102564, ('v', 78)),\n",
       " (0.07674418604651163, ('e', 860)),\n",
       " (0.07692307692307693, ('l', 390)),\n",
       " (0.07755102040816327, ('m', 245)),\n",
       " (0.10526315789473684, ('y', 152)),\n",
       " (0.12751677852348994, ('f', 149)),\n",
       " (0.16666666666666666, ('x', 36)),\n",
       " (0.2631578947368421, ('w', 57)),\n",
       " (0.5, ('z', 16))]"
      ]
     },
     "execution_count": 181,
     "metadata": {},
     "output_type": "execute_result"
    }
   ],
   "source": [
    "# Most common in high valence\n",
    "elem_to_enr_list[-10:]"
   ]
  },
  {
   "cell_type": "code",
   "execution_count": 341,
   "metadata": {
    "collapsed": false
   },
   "outputs": [
    {
     "name": "stdout",
     "output_type": "stream",
     "text": [
      "  6.96231619647e-05 102 5.69 5.2\n",
      "d 4.94595989099e-09 3086 5.05 5.2\n",
      "s 0.000258891298925 4864 5.14 5.2\n",
      "u 1.39414073701e-06 3397 5.05 5.2\n",
      "v 0.0169096629102 1132 5.3 5.2\n",
      "z 0.00723833461144 231 5.43 5.2\n"
     ]
    }
   ],
   "source": [
    "all_one_letter = set(sum(word_to_one.values(), []))\n",
    "\n",
    "all_median = np.median(np.array(ratings[\"val\"]))\n",
    "for elem in all_one_letter:\n",
    "    scores = np.array(get_scores(word_to_one, elem))\n",
    "    if len(scores) < 5: continue\n",
    "    elem_pval = scipy.stats.mannwhitneyu(scores, np.array(ratings[\"val\"]))[1]\n",
    "    elem_median = np.median(scores)\n",
    "    if elem_pval < 0.05:\n",
    "        print elem, elem_pval, len(scores), elem_median, all_median"
   ]
  },
  {
   "cell_type": "markdown",
   "metadata": {},
   "source": [
    "### 2 letters"
   ]
  },
  {
   "cell_type": "code",
   "execution_count": 195,
   "metadata": {
    "collapsed": false
   },
   "outputs": [
    {
     "name": "stdout",
     "output_type": "stream",
     "text": [
      "3955 3849\n"
     ]
    },
    {
     "data": {
      "text/plain": [
       "[(-0.75, ('sl', 16)),\n",
       " (-0.7142857142857143, ('nf', 14)),\n",
       " (-0.6296296296296297, ('ck', 27)),\n",
       " (-0.5714285714285714, ('lt', 14)),\n",
       " (-0.5652173913043478, ('ru', 23)),\n",
       " (-0.5555555555555556, ('rr', 27)),\n",
       " (-0.5454545454545454, ('cr', 22)),\n",
       " (-0.5, ('to', 24)),\n",
       " (-0.4666666666666667, ('di', 45)),\n",
       " (-0.46153846153846156, ('po', 26)),\n",
       " (-0.45454545454545453, ('hy', 11)),\n",
       " (-0.4444444444444444, ('ep', 18)),\n",
       " (-0.44, ('id', 25)),\n",
       " (-0.42857142857142855, ('sc', 14)),\n",
       " (-0.4117647058823529, ('ph', 17)),\n",
       " (-0.40540540540540543, ('de', 74)),\n",
       " (-0.4, ('oi', 10)),\n",
       " (-0.36363636363636365, ('so', 22)),\n",
       " (-0.35353535353535354, ('is', 99)),\n",
       " (-0.3333333333333333, ('os', 24))]"
      ]
     },
     "execution_count": 195,
     "metadata": {},
     "output_type": "execute_result"
    }
   ],
   "source": [
    "lo_valence_two = sum([word_to_two[w] for w in lo_valence], [])  # to flatten the list\n",
    "hi_valence_two = sum([word_to_two[w] for w in hi_valence], [])\n",
    "print len(lo_valence_two), len(hi_valence_two)\n",
    "\n",
    "elem_to_enr2_list = get_enrichment_list(lo_valence_two, hi_valence_two, 10)\n",
    "\n",
    "# Most common in low valence\n",
    "elem_to_enr2_list[:20]"
   ]
  },
  {
   "cell_type": "code",
   "execution_count": 238,
   "metadata": {
    "collapsed": true
   },
   "outputs": [],
   "source": [
    "def get_scores(dictionary, elem):\n",
    "    nums = []\n",
    "    for word in dictionary:\n",
    "        if elem in dictionary[word]:\n",
    "            nums.append(word_to_scores[word][0])\n",
    "    return nums"
   ]
  },
  {
   "cell_type": "code",
   "execution_count": 184,
   "metadata": {
    "collapsed": false
   },
   "outputs": [
    {
     "data": {
      "text/plain": [
       "[(0.3333333333333333, ('da', 18)),\n",
       " (0.3333333333333333, ('ig', 21)),\n",
       " (0.3333333333333333, ('ip', 12)),\n",
       " (0.3333333333333333, ('oo', 15)),\n",
       " (0.3333333333333333, ('sp', 21)),\n",
       " (0.3333333333333333, ('tu', 18)),\n",
       " (0.3333333333333333, ('wa', 12)),\n",
       " (0.3684210526315789, ('am', 19)),\n",
       " (0.38181818181818183, ('nt', 55)),\n",
       " (0.38461538461538464, ('do', 13)),\n",
       " (0.4117647058823529, ('ht', 17)),\n",
       " (0.4166666666666667, ('co', 48)),\n",
       " (0.4166666666666667, ('ee', 24)),\n",
       " (0.4444444444444444, ('gh', 18)),\n",
       " (0.4444444444444444, ('ir', 18)),\n",
       " (0.45454545454545453, ('ay', 11)),\n",
       " (0.45454545454545453, ('wi', 11)),\n",
       " (0.45454545454545453, ('ze', 11)),\n",
       " (0.5, ('gi', 12)),\n",
       " (0.6923076923076923, ('we', 13))]"
      ]
     },
     "execution_count": 184,
     "metadata": {},
     "output_type": "execute_result"
    }
   ],
   "source": [
    "# Most common in hi valence\n",
    "elem_to_enr2_list[-20:]"
   ]
  },
  {
   "cell_type": "code",
   "execution_count": null,
   "metadata": {
    "collapsed": true
   },
   "outputs": [],
   "source": [
    "all_two_letter = set(sum(word_to_two.values(), []))"
   ]
  },
  {
   "cell_type": "code",
   "execution_count": 367,
   "metadata": {
    "collapsed": false
   },
   "outputs": [],
   "source": [
    "all_median = np.median(np.array(ratings[\"val\"]))\n",
    "elem2_queue = Queue.PriorityQueue()\n",
    "for elem in all_two_letter:\n",
    "    scores = np.array(get_scores(word_to_two, elem))\n",
    "    if len(scores) < 10: continue\n",
    "    elem_pval = scipy.stats.mannwhitneyu(scores, np.array(ratings[\"val\"]))[1]\n",
    "    elem_median = np.median(scores)\n",
    "    if elem_pval < 0.05:\n",
    "        elem2_queue.put((elem_median, (elem, elem_pval, len(scores))))"
   ]
  },
  {
   "cell_type": "code",
   "execution_count": 368,
   "metadata": {
    "collapsed": true
   },
   "outputs": [],
   "source": [
    "elem2_to_median = []\n",
    "while not elem2_queue.empty():\n",
    "    (med, info) = elem2_queue.get()\n",
    "    elem2_to_median.append((med, info))"
   ]
  },
  {
   "cell_type": "code",
   "execution_count": 370,
   "metadata": {
    "collapsed": false
   },
   "outputs": [
    {
     "data": {
      "text/plain": [
       "[(3.3199999999999998, ('sg', 0.0023041453118675071, 11)),\n",
       " (3.5350000000000001, ('sr', 0.0033392472245394622, 10)),\n",
       " (3.79, ('nr', 0.0012606288904124187, 23)),\n",
       " (4.1050000000000004, ('nw', 0.011763935797702374, 16)),\n",
       " (4.1299999999999999, ('dn', 0.023961943194707423, 18)),\n",
       " (4.4000000000000004, ('uk', 0.024977651586802884, 10)),\n",
       " (4.415, ('sn', 0.001174240149630788, 62)),\n",
       " (4.4550000000000001, ('nf', 3.3656184056959604e-08, 126)),\n",
       " (4.4800000000000004, ('sl', 9.8284082537570732e-08, 104)),\n",
       " (4.5199999999999996, ('np', 0.00048001604059230008, 26))]"
      ]
     },
     "execution_count": 370,
     "metadata": {},
     "output_type": "execute_result"
    }
   ],
   "source": [
    "elem2_to_median[:10]"
   ]
  },
  {
   "cell_type": "code",
   "execution_count": 371,
   "metadata": {
    "collapsed": false
   },
   "outputs": [
    {
     "data": {
      "text/plain": [
       "[(5.6799999999999997, ('za', 0.042890978097632683, 30)),\n",
       " (5.7000000000000002, ('ek', 0.0046672375242658845, 25)),\n",
       " (5.7400000000000002, ('jo', 3.9148362894419991e-05, 39)),\n",
       " (5.75, (' b', 0.019223696393823573, 11)),\n",
       " (5.7549999999999999, ('yo', 0.0018466990532408449, 28)),\n",
       " (5.8499999999999996, ('nl', 0.0076214889412731055, 27)),\n",
       " (5.8550000000000004, ('e ', 0.013534288419943882, 14)),\n",
       " (6.04, ('ae', 0.003583261629784409, 11)),\n",
       " (6.1750000000000007, ('t ', 0.0036664550398066323, 16)),\n",
       " (6.21, ('yt', 0.00024782416893148453, 15))]"
      ]
     },
     "execution_count": 371,
     "metadata": {},
     "output_type": "execute_result"
    }
   ],
   "source": [
    "elem2_to_median[-10:]"
   ]
  },
  {
   "cell_type": "markdown",
   "metadata": {},
   "source": [
    "#### Diphthongs"
   ]
  },
  {
   "cell_type": "code",
   "execution_count": 395,
   "metadata": {
    "collapsed": false
   },
   "outputs": [],
   "source": [
    "num_vowel = collections.defaultdict(lambda: [0,0])\n",
    "for i in range(len(elem2_to_median)):\n",
    "    binnum = i * 2/len(elem2_to_median)\n",
    "    elem = elem2_to_median[i][1][0]\n",
    "    vowels = [\"a\", \"e\", \"i\", \"o\", \"u\", \"y\"]\n",
    "    num_vowel[binnum][1] += 1\n",
    "    \n",
    "    is_vowel_in = False\n",
    "    for v in vowels:\n",
    "        if v in elem:\n",
    "            is_vowel_in = True\n",
    "            break\n",
    "    if is_vowel_in: num_vowel[binnum][0] += 1"
   ]
  },
  {
   "cell_type": "code",
   "execution_count": 396,
   "metadata": {
    "collapsed": false
   },
   "outputs": [
    {
     "data": {
      "text/plain": [
       "defaultdict(<function __main__.<lambda>>, {0: [28, 62], 1: [45, 61]})"
      ]
     },
     "execution_count": 396,
     "metadata": {},
     "output_type": "execute_result"
    }
   ],
   "source": [
    "num_vowel"
   ]
  },
  {
   "cell_type": "markdown",
   "metadata": {},
   "source": [
    "Diphthongs (2 consonants) are more likely to occur in low-valence words than high-valence words."
   ]
  },
  {
   "cell_type": "markdown",
   "metadata": {},
   "source": [
    "### 3 letters"
   ]
  },
  {
   "cell_type": "code",
   "execution_count": 189,
   "metadata": {
    "collapsed": false
   },
   "outputs": [
    {
     "name": "stdout",
     "output_type": "stream",
     "text": [
      "3355 3249\n"
     ]
    },
    {
     "data": {
      "text/plain": [
       "[(-1.0, ('agg', 5)),\n",
       " (-1.0, ('ail', 8)),\n",
       " (-1.0, ('cid', 7)),\n",
       " (-1.0, ('cri', 8)),\n",
       " (-1.0, ('epr', 8)),\n",
       " (-1.0, ('ick', 9)),\n",
       " (-1.0, ('inf', 6)),\n",
       " (-1.0, ('iso', 7)),\n",
       " (-1.0, ('ole', 5)),\n",
       " (-1.0, ('orr', 6)),\n",
       " (-1.0, ('poi', 5)),\n",
       " (-1.0, ('rim', 6)),\n",
       " (-1.0, ('rro', 6)),\n",
       " (-1.0, ('ult', 5)),\n",
       " (-1.0, ('urd', 5)),\n",
       " (-0.92, ('dis', 25)),\n",
       " (-0.8, ('ici', 10)),\n",
       " (-0.7777777777777778, ('ead', 9)),\n",
       " (-0.7777777777777778, ('ger', 9)),\n",
       " (-0.7777777777777778, ('ism', 9))]"
      ]
     },
     "execution_count": 189,
     "metadata": {},
     "output_type": "execute_result"
    }
   ],
   "source": [
    "lo_valence_three = sum([word_to_three[w] for w in lo_valence], [])  # to flatten the list\n",
    "hi_valence_three = sum([word_to_three[w] for w in hi_valence], [])\n",
    "print len(lo_valence_three), len(hi_valence_three)\n",
    "\n",
    "elem_to_enr3_list = get_enrichment_list(lo_valence_three, hi_valence_three, 5)\n",
    "\n",
    "# Most common in low valence\n",
    "elem_to_enr3_list[:20]"
   ]
  },
  {
   "cell_type": "code",
   "execution_count": 186,
   "metadata": {
    "collapsed": false
   },
   "outputs": [
    {
     "data": {
      "text/plain": [
       "[(0.3333333333333333, ('ant', 12)),\n",
       " (0.375, ('ght', 16)),\n",
       " (0.375, ('gra', 16)),\n",
       " (0.375, ('rea', 16)),\n",
       " (0.3793103448275862, ('ful', 29)),\n",
       " (0.38461538461538464, ('ity', 13)),\n",
       " (0.4, ('ave', 10)),\n",
       " (0.4, ('eli', 10)),\n",
       " (0.4117647058823529, ('abl', 17)),\n",
       " (0.4375, ('ent', 32)),\n",
       " (0.5, ('igh', 12)),\n",
       " (0.5, ('ine', 12)),\n",
       " (0.5, ('ite', 12)),\n",
       " (0.5, ('shi', 12)),\n",
       " (0.5454545454545454, ('com', 22)),\n",
       " (0.6, ('gen', 10)),\n",
       " (0.6, ('omp', 10)),\n",
       " (0.6, ('our', 10)),\n",
       " (0.6363636363636364, ('nte', 11)),\n",
       " (0.8, ('tim', 10))]"
      ]
     },
     "execution_count": 186,
     "metadata": {},
     "output_type": "execute_result"
    }
   ],
   "source": [
    "elem_to_enr3_list[-20:]"
   ]
  },
  {
   "cell_type": "code",
   "execution_count": 343,
   "metadata": {
    "collapsed": true
   },
   "outputs": [],
   "source": [
    "all_three_letter = set(sum(word_to_three.values(), []))"
   ]
  },
  {
   "cell_type": "code",
   "execution_count": 364,
   "metadata": {
    "collapsed": true
   },
   "outputs": [],
   "source": [
    "all_median = np.median(np.array(ratings[\"val\"]))\n",
    "elem3_queue = Queue.PriorityQueue()\n",
    "for elem in all_three_letter:\n",
    "    scores = np.array(get_scores(word_to_three, elem))\n",
    "    if len(scores) < 10: continue\n",
    "    elem_pval = scipy.stats.mannwhitneyu(scores, np.array(ratings[\"val\"]))[1]\n",
    "    elem_median = np.median(scores)\n",
    "    if elem_pval < 0.05:\n",
    "        elem3_queue.put((elem_median, (elem, elem_pval, len(scores))))"
   ]
  },
  {
   "cell_type": "code",
   "execution_count": 365,
   "metadata": {
    "collapsed": false
   },
   "outputs": [],
   "source": [
    "elem3_to_median = []\n",
    "while not elem3_queue.empty():\n",
    "    (med, info) = elem3_queue.get()\n",
    "    elem3_to_median.append((med, info))"
   ]
  },
  {
   "cell_type": "code",
   "execution_count": 366,
   "metadata": {
    "collapsed": false
   },
   "outputs": [
    {
     "data": {
      "text/plain": [
       "[(3.21, ('ypo', 0.0014801049957617639, 10)),\n",
       " (3.2249999999999996, ('nfu', 3.1115859767447811e-05, 12)),\n",
       " (3.27, ('urd', 0.00026987106446799082, 13)),\n",
       " (3.2799999999999998, ('rup', 3.658720579586171e-05, 17)),\n",
       " (3.29, ('isa', 8.6776342265255771e-08, 23)),\n",
       " (3.2999999999999998, ('upt', 0.00013247670529237569, 18)),\n",
       " (3.3799999999999999, ('ror', 0.0014415673830618357, 11)),\n",
       " (3.4199999999999999, ('gru', 9.8083258018911927e-06, 12)),\n",
       " (3.4199999999999999, ('rau', 0.00079451766566806766, 10)),\n",
       " (3.4199999999999999, ('unf', 1.1052664617094036e-05, 19))]"
      ]
     },
     "execution_count": 366,
     "metadata": {},
     "output_type": "execute_result"
    }
   ],
   "source": [
    "elem3_to_median[:10]"
   ]
  },
  {
   "cell_type": "code",
   "execution_count": 384,
   "metadata": {
    "collapsed": false
   },
   "outputs": [
    {
     "data": {
      "text/plain": [
       "[(6.4050000000000002, ('mir', 0.0005800541930460803, 14)),\n",
       " (6.4400000000000004, ('sav', 0.0040574458593327263, 11)),\n",
       " (6.4500000000000002, ('tne', 0.0086172718136758066, 13)),\n",
       " (6.4550000000000001, ('tog', 0.00028583384101350622, 10)),\n",
       " (6.4800000000000004, ('now', 4.5123479224297528e-05, 18)),\n",
       " (6.5499999999999998, ('ney', 0.046411631082158421, 11)),\n",
       " (6.6050000000000004, ('eff', 0.035150822313778897, 10)),\n",
       " (6.6799999999999997, ('fas', 0.010279181854049791, 11)),\n",
       " (7.0, ('nli', 0.0022379565443828736, 11)),\n",
       " (7.4399999999999995, ('lov', 0.00042886009039796454, 14))]"
      ]
     },
     "execution_count": 384,
     "metadata": {},
     "output_type": "execute_result"
    }
   ],
   "source": [
    "elem3_to_median[-10:]"
   ]
  },
  {
   "cell_type": "code",
   "execution_count": 363,
   "metadata": {
    "collapsed": false
   },
   "outputs": [
    {
     "name": "stdout",
     "output_type": "stream",
     "text": [
      "interrupt\n",
      "disruption\n",
      "eruption\n",
      "nuptials\n",
      "voluptuous\n",
      "abrupt\n",
      "bankrupt\n",
      "disruptive\n",
      "interruption\n",
      "uninterrupted\n",
      "rupture\n",
      "bankruptcy\n",
      "erupt\n",
      "corrupt\n",
      "prenuptial\n",
      "disrupt\n",
      "corruption\n",
      "uptight\n"
     ]
    }
   ],
   "source": [
    "for word in word_to_one:\n",
    "    if 'upt' in word: print word"
   ]
  },
  {
   "cell_type": "markdown",
   "metadata": {},
   "source": [
    "### Prefixes"
   ]
  },
  {
   "cell_type": "code",
   "execution_count": 190,
   "metadata": {
    "collapsed": false
   },
   "outputs": [
    {
     "name": "stdout",
     "output_type": "stream",
     "text": [
      "600 600\n"
     ]
    },
    {
     "data": {
      "text/plain": [
       "[(-1.0, ('cri', 5)),\n",
       " (-1.0, ('dea', 5)),\n",
       " (-1.0, ('hat', 4)),\n",
       " (-1.0, ('inf', 5)),\n",
       " (-1.0, ('jai', 4)),\n",
       " (-1.0, ('mis', 6)),\n",
       " (-1.0, ('mur', 4)),\n",
       " (-1.0, ('sad', 4)),\n",
       " (-1.0, ('sla', 6)),\n",
       " (-1.0, ('unf', 4)),\n",
       " (-0.9090909090909091, ('dis', 22)),\n",
       " (-0.7142857142857143, ('dep', 7)),\n",
       " (-0.7142857142857143, ('ins', 7)),\n",
       " (-0.7142857142857143, ('ter', 7)),\n",
       " (-0.6666666666666666, ('inc', 6)),\n",
       " (-0.6, ('ass', 5)),\n",
       " (-0.6, ('dec', 5)),\n",
       " (-0.6, ('des', 5)),\n",
       " (-0.6, ('hel', 5)),\n",
       " (-0.5, ('can', 4))]"
      ]
     },
     "execution_count": 190,
     "metadata": {},
     "output_type": "execute_result"
    }
   ],
   "source": [
    "lo_valence_start = [word_to_three[w][0] for w in lo_valence]\n",
    "hi_valence_start = [word_to_three[w][0] for w in hi_valence]\n",
    "print len(lo_valence_start), len(hi_valence_start)\n",
    "\n",
    "elem_to_enr_s_list = get_enrichment_list(lo_valence_start, hi_valence_start, 4)\n",
    "\n",
    "# Most common in low valence\n",
    "elem_to_enr_s_list[:20]"
   ]
  },
  {
   "cell_type": "code",
   "execution_count": 191,
   "metadata": {
    "collapsed": false
   },
   "outputs": [
    {
     "data": {
      "text/plain": [
       "[(0.3333333333333333, ('pro', 6)),\n",
       " (0.42857142857142855, ('int', 7)),\n",
       " (0.5, ('acc', 4)),\n",
       " (0.5, ('cha', 4)),\n",
       " (0.5, ('fas', 4)),\n",
       " (0.5, ('mag', 4)),\n",
       " (0.5, ('mil', 4)),\n",
       " (0.5, ('pan', 4)),\n",
       " (0.5, ('pic', 4)),\n",
       " (0.5, ('sat', 4)),\n",
       " (0.5, ('sea', 4)),\n",
       " (0.5555555555555556, ('exc', 9)),\n",
       " (0.6, ('del', 5)),\n",
       " (0.6, ('pla', 5)),\n",
       " (0.6, ('swe', 5)),\n",
       " (0.6666666666666666, ('gen', 6)),\n",
       " (0.7142857142857143, ('app', 7)),\n",
       " (0.75, ('com', 16)),\n",
       " (0.75, ('lov', 8)),\n",
       " (0.7777777777777778, ('gra', 9))]"
      ]
     },
     "execution_count": 191,
     "metadata": {},
     "output_type": "execute_result"
    }
   ],
   "source": [
    "# Most common in low valence\n",
    "elem_to_enr_s_list[-20:]"
   ]
  },
  {
   "cell_type": "markdown",
   "metadata": {},
   "source": [
    "### Suffixes"
   ]
  },
  {
   "cell_type": "code",
   "execution_count": 193,
   "metadata": {
    "collapsed": false
   },
   "outputs": [
    {
     "name": "stdout",
     "output_type": "stream",
     "text": [
      "600 600\n"
     ]
    },
    {
     "data": {
      "text/plain": [
       "[(-1.0, ('ath', 4)),\n",
       " (-1.0, ('der', 4)),\n",
       " (-1.0, ('son', 4)),\n",
       " (-1.0, ('tis', 4)),\n",
       " (-0.75, ('ism', 8)),\n",
       " (-0.7142857142857143, ('sis', 7)),\n",
       " (-0.6666666666666666, ('ary', 6)),\n",
       " (-0.6666666666666666, ('ger', 6)),\n",
       " (-0.6666666666666666, ('ker', 6)),\n",
       " (-0.6666666666666666, ('ose', 6))]"
      ]
     },
     "execution_count": 193,
     "metadata": {},
     "output_type": "execute_result"
    }
   ],
   "source": [
    "lo_valence_end = [word_to_three[w][-1] for w in lo_valence]\n",
    "hi_valence_end = [word_to_three[w][-1] for w in hi_valence]\n",
    "print len(lo_valence_end), len(hi_valence_end)\n",
    "\n",
    "elem_to_enr_e_list = get_enrichment_list(lo_valence_end, hi_valence_end, 4)\n",
    "\n",
    "# Most common in low valence\n",
    "elem_to_enr_e_list[:10]"
   ]
  },
  {
   "cell_type": "code",
   "execution_count": 194,
   "metadata": {
    "collapsed": false
   },
   "outputs": [
    {
     "data": {
      "text/plain": [
       "[(0.5, ('ire', 4)),\n",
       " (0.5, ('nal', 4)),\n",
       " (0.5, ('rty', 4)),\n",
       " (0.5, ('wer', 4)),\n",
       " (0.5555555555555556, ('ake', 9)),\n",
       " (0.6, ('ime', 5)),\n",
       " (0.6, ('rry', 5)),\n",
       " (0.6666666666666666, ('hip', 6)),\n",
       " (0.7142857142857143, ('ine', 7)),\n",
       " (0.7142857142857143, ('ver', 7))]"
      ]
     },
     "execution_count": 194,
     "metadata": {},
     "output_type": "execute_result"
    }
   ],
   "source": [
    "# Most common in low valence\n",
    "elem_to_enr_e_list[-10:]"
   ]
  },
  {
   "cell_type": "markdown",
   "metadata": {},
   "source": [
    "### A different way of looking at this data"
   ]
  },
  {
   "cell_type": "code",
   "execution_count": 338,
   "metadata": {
    "collapsed": false
   },
   "outputs": [
    {
     "data": {
      "text/plain": [
       "(1, 9)"
      ]
     },
     "execution_count": 338,
     "metadata": {},
     "output_type": "execute_result"
    },
    {
     "data": {
      "image/png": "[encoded data removed]",
      "text/plain": [
       "<matplotlib.figure.Figure at 0x115ca5810>"
      ]
     },
     "metadata": {},
     "output_type": "display_data"
    }
   ],
   "source": [
    "sns.kdeplot(np.array(get_scores(word_to_one, \"d\")), label=\"obs\")\n",
    "sns.kdeplot(np.array(ratings[\"val\"]), label=\"exp\")\n",
    "sns.plt.legend()\n",
    "sns.plt.xlim([1,9])"
   ]
  },
  {
   "cell_type": "code",
   "execution_count": 335,
   "metadata": {
    "collapsed": false
   },
   "outputs": [
    {
     "data": {
      "text/plain": [
       "5.2936305937729654e-05"
      ]
     },
     "execution_count": 335,
     "metadata": {},
     "output_type": "execute_result"
    }
   ],
   "source": [
    "scipy.stats.mannwhitneyu(np.array(get_scores(word_to_three, \"gra\")), np.array(ratings[\"val\"]))[1]"
   ]
  }
 ],
 "metadata": {
  "kernelspec": {
   "display_name": "Python 2",
   "language": "python",
   "name": "python2"
  },
  "language_info": {
   "codemirror_mode": {
    "name": "ipython",
    "version": 2
   },
   "file_extension": ".py",
   "mimetype": "text/x-python",
   "name": "python",
   "nbconvert_exporter": "python",
   "pygments_lexer": "ipython2",
   "version": "2.7.11"
  }
 },
 "nbformat": 4,
 "nbformat_minor": 0
}
